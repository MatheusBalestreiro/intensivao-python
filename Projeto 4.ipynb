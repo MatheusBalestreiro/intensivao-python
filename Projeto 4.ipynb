{
 "cells": [
  {
   "cell_type": "markdown",
   "id": "5b401a4b",
   "metadata": {},
   "source": [
    "# Projeto Ciência de Dados - Previsão de Preços\n",
    "\n",
    "- Nosso desafio é conseguir prever o preço de barcos que vamos vender baseado nas características do barco, como: ano, tamanho, tipo de barco, se é novo ou usado, qual material usado, etc.\n",
    "\n",
    "- Base de Dados: https://drive.google.com/drive/folders/1o2lpxoi9heyQV1hIlsHXWSfDkBPtze-V?usp=share_link"
   ]
  },
  {
   "cell_type": "markdown",
   "id": "ef64b6d5",
   "metadata": {},
   "source": [
    "### Passo a Passo de um Projeto de Ciência de Dados\n",
    "\n",
    "- Passo 1: Entendimento do Desafio\n",
    "- Passo 2: Entendimento da Área/Empresa\n",
    "- Passo 3: Extração/Obtenção de Dados\n",
    "- Passo 4: Ajuste de Dados (Tratamento/Limpeza)\n",
    "- Passo 5: Análise Exploratória\n",
    "- Passo 6: Modelagem + Algoritmos (Aqui que entra a Inteligência Artificial, se necessário)\n",
    "- Passo 7: Interpretação de Resultados"
   ]
  },
  {
   "cell_type": "markdown",
   "id": "2e085b35",
   "metadata": {},
   "source": [
    "![title](tabelas.png)"
   ]
  },
  {
   "cell_type": "code",
   "execution_count": null,
   "id": "f4a968fb",
   "metadata": {},
   "outputs": [],
   "source": []
  }
 ],
 "metadata": {
  "kernelspec": {
   "display_name": "Python 3 (ipykernel)",
   "language": "python",
   "name": "python3"
  },
  "language_info": {
   "codemirror_mode": {
    "name": "ipython",
    "version": 3
   },
   "file_extension": ".py",
   "mimetype": "text/x-python",
   "name": "python",
   "nbconvert_exporter": "python",
   "pygments_lexer": "ipython3",
   "version": "3.9.13"
  }
 },
 "nbformat": 4,
 "nbformat_minor": 5
}
